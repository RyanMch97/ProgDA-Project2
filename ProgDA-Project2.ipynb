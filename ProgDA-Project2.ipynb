{
 "cells": [
  {
   "cell_type": "markdown",
   "metadata": {},
   "source": [
    "# Exercise 1 - Information"
   ]
  },
  {
   "cell_type": "markdown",
   "metadata": {},
   "source": [
    "#### ProgDA - Project 2 - Wisconsin Breast Cancer dataset Project"
   ]
  },
  {
   "cell_type": "markdown",
   "metadata": {},
   "source": [
    "### Research "
   ]
  },
  {
   "cell_type": "markdown",
   "metadata": {},
   "source": [
    "The Wisconsin Breast Cancer dataset is a well known dataset that is used in many Machine Learning & programming modules around the world due to it's easy to understand nature it's foundation for building workable assignments around. Created by Dr. William H. Wolberg of the University of Wisconsin in 1995."
   ]
  },
  {
   "cell_type": "markdown",
   "metadata": {},
   "source": [
    "FNAs are a commonly used diagnostic test for breast cancer, in which a thin needle is used to withdraw a small sample of cells from a breast mass. The cells are then examined under a microscope by a pathologist to determine if the tumor is cancerous. The Wisconsin Breast Cancer dataset was created by extracting features from the images of FNA samples of breast masses, which were then used to classify the tumors as either benign or malignant.\n",
    "The dataset contains 569 examples, with 357 benign tumors and 212 malignant tumors. Each example is represented by 30 numeric features, which describe characteristics of the cell nuclei present in the image.\n"
   ]
  },
  {
   "cell_type": "code",
   "execution_count": null,
   "metadata": {},
   "outputs": [],
   "source": []
  }
 ],
 "metadata": {
  "kernelspec": {
   "display_name": "Python 3 (ipykernel)",
   "language": "python",
   "name": "python3"
  },
  "language_info": {
   "codemirror_mode": {
    "name": "ipython",
    "version": 3
   },
   "file_extension": ".py",
   "mimetype": "text/x-python",
   "name": "python",
   "nbconvert_exporter": "python",
   "pygments_lexer": "ipython3",
   "version": "3.9.13"
  }
 },
 "nbformat": 4,
 "nbformat_minor": 4
}

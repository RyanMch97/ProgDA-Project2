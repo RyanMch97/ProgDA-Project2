{
  "metadata": {
    "kernelspec": {
      "name": "python",
      "display_name": "Python (Pyodide)",
      "language": "python"
    },
    "language_info": {
      "codemirror_mode": {
        "name": "python",
        "version": 3
      },
      "file_extension": ".py",
      "mimetype": "text/x-python",
      "name": "python",
      "nbconvert_exporter": "python",
      "pygments_lexer": "ipython3",
      "version": "3.8"
    }
  },
  "nbformat_minor": 4,
  "nbformat": 4,
  "cells": [
    {
      "cell_type": "markdown",
      "source": "# Exercise 1 - Information",
      "metadata": {}
    },
    {
      "cell_type": "markdown",
      "source": "#### ProgDA - Project 2 - Wisconsin Breast Cancer dataset Project",
      "metadata": {}
    },
    {
      "cell_type": "markdown",
      "source": "### Research ",
      "metadata": {}
    },
    {
      "cell_type": "markdown",
      "source": "The Wisconsin Breast Cancer dataset is a well known dataset that is used in many Machine Learning & programming modules around the world due to it's easy to understand nature it's foundation for building workable assignments around. Created by Dr. William H. Wolberg of the University of Wisconsin in 1995.",
      "metadata": {}
    },
    {
      "cell_type": "code",
      "source": "",
      "metadata": {},
      "execution_count": null,
      "outputs": []
    }
  ]
}